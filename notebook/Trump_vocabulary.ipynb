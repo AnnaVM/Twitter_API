{
 "cells": [
  {
   "cell_type": "code",
   "execution_count": 19,
   "metadata": {
    "collapsed": true
   },
   "outputs": [],
   "source": [
    "import os\n",
    "import sys\n",
    "\n",
    "module_path = os.path.abspath(os.path.join('../code'))\n",
    "if module_path not in sys.path:\n",
    "    sys.path.append(module_path)\n",
    "\n",
    "import pandas as pd\n",
    "from string import punctuation"
   ]
  },
  {
   "cell_type": "code",
   "execution_count": 24,
   "metadata": {
    "collapsed": true
   },
   "outputs": [],
   "source": [
    "%load_ext line_profiler"
   ]
  },
  {
   "cell_type": "code",
   "execution_count": 21,
   "metadata": {
    "collapsed": true
   },
   "outputs": [],
   "source": [
    "from nltk.tag import StanfordNERTagger\n",
    "\n",
    "from nltk.stem import WordNetLemmatizer\n",
    "from nltk.stem.porter import PorterStemmer\n",
    "\n",
    "from nltk.corpus import stopwords"
   ]
  },
  {
   "cell_type": "code",
   "execution_count": 28,
   "metadata": {
    "collapsed": false
   },
   "outputs": [],
   "source": [
    "from utilities import give_source_name, isQuote, clean_up_text\n",
    "from language_utilities import handle_single_tweet"
   ]
  },
  {
   "cell_type": "markdown",
   "metadata": {},
   "source": [
    "## 1. Upload and clean the data\n",
    "This .csv file is obtained by running the api_script.py for realDonaldTrump\n",
    "#### Load data"
   ]
  },
  {
   "cell_type": "code",
   "execution_count": 10,
   "metadata": {
    "collapsed": true
   },
   "outputs": [],
   "source": [
    "df_trump = pd.read_csv('../data/realDonaldTrump.csv')"
   ]
  },
  {
   "cell_type": "markdown",
   "metadata": {},
   "source": [
    "#### Feature engineer: sources and clean text"
   ]
  },
  {
   "cell_type": "code",
   "execution_count": 11,
   "metadata": {
    "collapsed": false
   },
   "outputs": [
    {
     "name": "stdout",
     "output_type": "stream",
     "text": [
      "number of unique sources:  7\n"
     ]
    }
   ],
   "source": [
    "print 'number of unique sources: ', len(df_trump.source.unique())\n",
    "source_types = df_trump.source.unique()\n",
    "# human readable (shorter) labels\n",
    "source_names = ['Web Client', 'iPhone', 'Android', 'iPad',\\\n",
    "                 'Media Studio', 'Instagram', 'Mobile Web']\n",
    "\n",
    "#add a column with the human readable label\n",
    "df_trump['type_source'] = map(lambda x: \\\n",
    "                        give_source_name(x, source_types, source_names),\\\n",
    "                        df_trump.source)\n",
    "\n",
    "#making mask to id the source\n",
    "mask_android = (df_trump.type_source == 'Android')\n",
    "mask_iphone = (df_trump.type_source == 'iPhone')"
   ]
  },
  {
   "cell_type": "code",
   "execution_count": 12,
   "metadata": {
    "collapsed": true
   },
   "outputs": [],
   "source": [
    "#retweet signaled with quotation marks\n",
    "df_trump[\"isQuote\"] = map(isQuote, df_trump.text)\n",
    "#define a mask to seperate tweets that are retweets from others\n",
    "mask_android_noquote = ((df_trump.type_source == 'Android') & (df_trump.isQuote==False))\n",
    "mask_android_isquote = ((df_trump.type_source == 'Android') & (df_trump.isQuote==True))"
   ]
  },
  {
   "cell_type": "code",
   "execution_count": 13,
   "metadata": {
    "collapsed": true
   },
   "outputs": [],
   "source": [
    "df_trump['clean_text'] = map(clean_up_text, df_trump.text)"
   ]
  },
  {
   "cell_type": "markdown",
   "metadata": {},
   "source": [
    "## 2. Tokenize and tag"
   ]
  },
  {
   "cell_type": "code",
   "execution_count": 14,
   "metadata": {
    "collapsed": false
   },
   "outputs": [],
   "source": [
    "# Change the paths to point to the directory where you downloaded the Stanford tagger.\n",
    "os.environ['STANFORD_MODELS'] = \"../../Twitter/stanford-ner-2014-06-16/classifiers\"\n",
    "os.environ['CLASSPATH'] = \"../../Twitter/stanford-ner-2014-06-16\"\n",
    "st = StanfordNERTagger('english.all.3class.distsim.crf.ser.gz')"
   ]
  },
  {
   "cell_type": "code",
   "execution_count": 15,
   "metadata": {
    "collapsed": true
   },
   "outputs": [],
   "source": [
    "wn_lemmatizer = WordNetLemmatizer()\n",
    "porter_stemmer = PorterStemmer()"
   ]
  },
  {
   "cell_type": "code",
   "execution_count": 22,
   "metadata": {
    "collapsed": false
   },
   "outputs": [],
   "source": [
    "#remove words not indicative of vocabulary\n",
    "remove_set = set(punctuation).union(set(stopwords.words('english')))"
   ]
  },
  {
   "cell_type": "code",
   "execution_count": 30,
   "metadata": {
    "collapsed": false
   },
   "outputs": [],
   "source": [
    "#time the function\n",
    "#tweet = df_trump.clean_text[3035]\n",
    "#%lprun -f handle_single_tweet handle_single_tweet(tweet, remove_set, st, wn_lemmatizer)"
   ]
  },
  {
   "cell_type": "code",
   "execution_count": 32,
   "metadata": {
    "collapsed": false
   },
   "outputs": [
    {
     "name": "stdout",
     "output_type": "stream",
     "text": [
      "1159\n"
     ]
    }
   ],
   "source": [
    "#keep only tweets that we think are really from Donald Trump\n",
    "df_real_trump = df_trump[mask_android_noquote]\n",
    "print len(df_real_trump)"
   ]
  },
  {
   "cell_type": "code",
   "execution_count": null,
   "metadata": {
    "collapsed": false
   },
   "outputs": [
    {
     "name": "stdout",
     "output_type": "stream",
     "text": [
      "0\n",
      "100\n"
     ]
    }
   ],
   "source": [
    "dict_list = []\n",
    "vocabulary_list = []\n",
    "index = 0\n",
    "for tweet in df_real_trump.clean_text:\n",
    "    if index%100 == 0: print index\n",
    "    processed_tokens, dict_by_type = handle_single_tweet(tweet, remove_set, st, wn_lemmatizer)\n",
    "    vocabulary_list.append(processed_tokens)\n",
    "    dict_list.append(dict_by_type)\n",
    "    index += 1"
   ]
  },
  {
   "cell_type": "code",
   "execution_count": null,
   "metadata": {
    "collapsed": true
   },
   "outputs": [],
   "source": []
  }
 ],
 "metadata": {
  "kernelspec": {
   "display_name": "Python [default]",
   "language": "python",
   "name": "python2"
  },
  "language_info": {
   "codemirror_mode": {
    "name": "ipython",
    "version": 2
   },
   "file_extension": ".py",
   "mimetype": "text/x-python",
   "name": "python",
   "nbconvert_exporter": "python",
   "pygments_lexer": "ipython2",
   "version": "2.7.12"
  }
 },
 "nbformat": 4,
 "nbformat_minor": 0
}
